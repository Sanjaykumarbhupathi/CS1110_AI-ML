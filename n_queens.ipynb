{
  "nbformat": 4,
  "nbformat_minor": 0,
  "metadata": {
    "colab": {
      "provenance": [],
      "collapsed_sections": []
    },
    "kernelspec": {
      "name": "python3",
      "display_name": "Python 3"
    },
    "language_info": {
      "name": "python"
    }
  },
  "cells": [
    {
      "cell_type": "code",
      "source": [
        "def is_safe ( board, row, col, n ): # n board size\n",
        "    for c in range (col ):# 0 tocorrect col\n",
        "        if board[row][c] == 1: #if already queen\n",
        "            return False\n",
        "    i = row #loop\n",
        "    j = col\n",
        "    while i >=0 and j >= 0 : # go up\n",
        "        if board[i][j] == 1: \n",
        "            return False\n",
        "        i -=1\n",
        "        j -=1\n",
        "    i = row # down digonal\n",
        "    j =col\n",
        "    while i < n and j >=0:\n",
        "        if board[i][j] ==1: \n",
        "            return False\n",
        "        i +=1\n",
        "        j-=1\n",
        "    return True\n",
        "def nQueens ( board, col, n ) : \n",
        "    if col >=n : \n",
        "        return True\n",
        "    for i in range (n) :\n",
        "        if is_safe (board, i, col, n):\n",
        "            board[i][col] = 1\n",
        "            if nQueens(board, col+1, n):\n",
        "                return True\n",
        "            board[i][col] = 0 #back tracking\n",
        "    return False\n",
        "\n",
        "n =int( input('Enter size of board : ') ) #size of the board\n",
        "board = [ [0 for j in range (n) ] for i in range (n)]\n",
        "if nQueens(board, 0,  n ) == True :\n",
        "    for i in range (n)  :\n",
        "        for j in range  (n) :\n",
        "            print(board[i][j], end = ' ' )\n",
        "        print()\n",
        "else :\n",
        "    print(\" not possible \")"
      ],
      "metadata": {
        "id": "vKP-lX42Wk_i",
        "outputId": "223ffd0f-bf61-436d-b147-31354a2a30d5",
        "colab": {
          "base_uri": "https://localhost:8080/"
        }
      },
      "execution_count": null,
      "outputs": [
        {
          "output_type": "stream",
          "name": "stdout",
          "text": [
            "Enter size of board : 8\n",
            "1 0 0 0 0 0 0 0 \n",
            "0 0 0 0 0 0 1 0 \n",
            "0 0 0 0 1 0 0 0 \n",
            "0 0 0 0 0 0 0 1 \n",
            "0 1 0 0 0 0 0 0 \n",
            "0 0 0 1 0 0 0 0 \n",
            "0 0 0 0 0 1 0 0 \n",
            "0 0 1 0 0 0 0 0 \n"
          ]
        }
      ]
    },
    {
      "cell_type": "code",
      "source": [],
      "metadata": {
        "id": "cVFWi7UBKqA4"
      },
      "execution_count": null,
      "outputs": []
    }
  ]
}