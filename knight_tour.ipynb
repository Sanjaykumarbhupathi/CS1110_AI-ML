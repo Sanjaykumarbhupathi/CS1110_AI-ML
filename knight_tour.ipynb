{
  "nbformat": 4,
  "nbformat_minor": 0,
  "metadata": {
    "colab": {
      "provenance": [],
      "collapsed_sections": []
    },
    "kernelspec": {
      "name": "python3",
      "display_name": "Python 3"
    },
    "language_info": {
      "name": "python"
    }
  },
  "cells": [
    {
      "cell_type": "code",
      "source": [
        "import numpy as np\n",
        "def knight_tour(n):\n",
        "  board=[[-1 for i in range(n)]for j in range(n)]\n",
        "  knight_tour_helper(n=n,board=board,x=4,y=0,counter=0)\n",
        "  print(np.array(board))\n",
        "def knight_tour_helper(n,board,x,y,counter):\n",
        "  if counter==n*n:\n",
        "    return True\n",
        "  if(x<0)or (x>=n) or (y<0)or (y>=n)or board[y][x]!= -1:\n",
        "    return False\n",
        "  board[y][x]=counter\n",
        "  for x_move,y_move in zip([-2,-2,-1,-1,1,1,2,2],[-1,1,-2,2,-2,2,-1,1]):\n",
        "    if knight_tour_helper(n,board,x+x_move,y+y_move,counter+1):\n",
        "      return True\n",
        "  board[y][x]=-1\n",
        "  return False"
      ],
      "metadata": {
        "id": "cakDptaTOFqs"
      },
      "execution_count": null,
      "outputs": []
    },
    {
      "cell_type": "code",
      "source": [
        "knight_tour(6)"
      ],
      "metadata": {
        "colab": {
          "base_uri": "https://localhost:8080/"
        },
        "id": "XQ4UkYnfRrRx",
        "outputId": "9ec10caa-7eec-4c76-bbf8-0b945132acd4"
      },
      "execution_count": null,
      "outputs": [
        {
          "output_type": "stream",
          "name": "stdout",
          "text": [
            "[[ 2  7 22 19  0 31]\n",
            " [ 9 20  1 32 23 18]\n",
            " [ 6  3  8 21 30 33]\n",
            " [13 10  5 26 17 24]\n",
            " [ 4 27 12 15 34 29]\n",
            " [11 14 35 28 25 16]]\n"
          ]
        }
      ]
    },
    {
      "cell_type": "code",
      "source": [],
      "metadata": {
        "id": "mJfdCA5-SDIw"
      },
      "execution_count": null,
      "outputs": []
    }
  ]
}