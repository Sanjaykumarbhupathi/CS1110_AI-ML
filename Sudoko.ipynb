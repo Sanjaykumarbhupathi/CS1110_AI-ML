{
  "nbformat": 4,
  "nbformat_minor": 0,
  "metadata": {
    "colab": {
      "provenance": [],
      "collapsed_sections": []
    },
    "kernelspec": {
      "name": "python3",
      "display_name": "Python 3"
    },
    "language_info": {
      "name": "python"
    }
  },
  "cells": [
    {
      "cell_type": "code",
      "execution_count": null,
      "metadata": {
        "colab": {
          "base_uri": "https://localhost:8080/"
        },
        "id": "hIXlrzGQ-I_m",
        "outputId": "d4aeeafb-4f2b-4ed1-ebc4-65811be079f3"
      },
      "outputs": [
        {
          "output_type": "stream",
          "name": "stdout",
          "text": [
            "[[5 3 4 6 7 8 1 9 2]\n",
            " [6 7 2 1 9 5 3 4 8]\n",
            " [1 9 8 3 4 2 5 6 7]\n",
            " [8 5 9 7 6 1 4 2 3]\n",
            " [4 2 6 8 5 3 9 7 1]\n",
            " [7 1 3 9 2 4 8 5 6]\n",
            " [9 6 1 5 3 7 2 8 4]\n",
            " [2 8 7 4 1 9 6 3 5]\n",
            " [3 4 5 2 8 6 7 1 9]]\n",
            "[[5 3 4 6 7 8 9 1 2]\n",
            " [6 7 2 1 9 5 3 4 8]\n",
            " [1 9 8 3 4 2 5 6 7]\n",
            " [8 5 9 7 6 1 4 2 3]\n",
            " [4 2 6 8 5 3 7 9 1]\n",
            " [7 1 3 9 2 4 8 5 6]\n",
            " [9 6 1 5 3 7 2 8 4]\n",
            " [2 8 7 4 1 9 6 3 5]\n",
            " [3 4 5 2 8 6 1 7 9]]\n"
          ]
        }
      ],
      "source": [
        "import numpy as np\n",
        "\n",
        "canvas= [[5,3,0,0,7,0,0,0,0],\n",
        "        [6,0,0,1,9,5,0,0,0],\n",
        "        [0,9,8,0,0,0,0,6,0],\n",
        "        [8,0,0,0,6,0,0,0,3],\n",
        "        [4,0,0,8,0,3,0,0,1],\n",
        "        [7,0,0,0,2,0,0,0,6],\n",
        "        [0,6,0,0,0,0,2,8,0],\n",
        "        [0,0,0,0,1,9,0,0,5],\n",
        "        [0,0,0,0,0,0,0,0,0]]\n",
        "\n",
        "def possible(row, column, number):\n",
        "    global canvas\n",
        "    #Is the number appearing in the given row?\n",
        "    for i in range(0,9):\n",
        "        if canvas[row][i] == number:\n",
        "            return False\n",
        "\n",
        "    #Is the number appearing in the given column?\n",
        "    for i in range(0,9):\n",
        "        if canvas[i][column] == number:\n",
        "            return False\n",
        "    \n",
        "    #Is the number appearing in the given square?\n",
        "    x0 = (column // 3) * 3\n",
        "    y0 = (row // 3) * 3\n",
        "    for i in range(0,3):\n",
        "        for j in range(0,3):\n",
        "            if canvas[y0+i][x0+j] == number:\n",
        "                return False\n",
        "\n",
        "    return True\n",
        "\n",
        "def solve():\n",
        "    global canvas\n",
        "    for row in range(0,9):\n",
        "        for column in range(0,9):\n",
        "            if canvas[row][column] == 0:\n",
        "                for number in range(1,10):\n",
        "                    if possible(row, column, number):\n",
        "                        canvas[row][column] = number\n",
        "                        solve()\n",
        "                        canvas[row][column] = 0\n",
        "\n",
        "                return\n",
        "      \n",
        "    print(np.matrix(canvas))\n",
        "\n",
        "solve()"
      ]
    },
    {
      "cell_type": "code",
      "source": [],
      "metadata": {
        "id": "r95AVA90__u2"
      },
      "execution_count": null,
      "outputs": []
    }
  ]
}