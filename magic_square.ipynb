{
  "nbformat": 4,
  "nbformat_minor": 0,
  "metadata": {
    "colab": {
      "provenance": []
    },
    "kernelspec": {
      "name": "python3",
      "display_name": "Python 3"
    },
    "language_info": {
      "name": "python"
    }
  },
  "cells": [
    {
      "cell_type": "code",
      "execution_count": 1,
      "metadata": {
        "colab": {
          "base_uri": "https://localhost:8080/"
        },
        "id": "jOEb5bJtRC3H",
        "outputId": "4fcd41af-5942-458b-d8cb-5b3ef4a18745"
      },
      "outputs": [
        {
          "output_type": "stream",
          "name": "stdout",
          "text": [
            "enter the square  matrix number3\n",
            "Solved Magic Square is:\n",
            "[[8 1 6]\n",
            " [3 5 7]\n",
            " [4 9 2]]\n"
          ]
        }
      ],
      "source": [
        "import numpy as np\n",
        "N  = int(input(\"enter the square  matrix number\"))\n",
        "if N%2==0:\n",
        "  print(\"magic square wont work on even matrix size.\")\n",
        "  print(\"enter odd number \")\n",
        "magic_square = np.zeros((N,N), dtype=int)\n",
        "n = 1\n",
        "i= 0\n",
        "j = N//2\n",
        "\n",
        "while n <= N**2:\n",
        "    magic_square[i, j] = n\n",
        "    n+=1\n",
        "    x = (i-1) % N\n",
        "    y = (j+1)% N\n",
        "    if magic_square[x, y]:\n",
        "        i +=1\n",
        "    else:\n",
        "        i, j = x, y\n",
        "print(\"Solved Magic Square is:\")\n",
        "print(magic_square)"
      ]
    },
    {
      "cell_type": "code",
      "source": [],
      "metadata": {
        "id": "hkoPIkR4RIZX"
      },
      "execution_count": null,
      "outputs": []
    }
  ]
}