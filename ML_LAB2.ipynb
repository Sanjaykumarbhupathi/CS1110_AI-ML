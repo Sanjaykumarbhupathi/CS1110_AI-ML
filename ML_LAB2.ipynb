{
 "cells": [
  {
   "cell_type": "code",
   "execution_count": 24,
   "metadata": {
    "id": "yKaSHcfmy5yo"
   },
   "outputs": [],
   "source": [
    "import pandas as pd\n",
    "import numpy as np\n",
    "import matplotlib.pyplot as plt\n",
    "import seaborn as sns\n",
    "import statsmodels.api  as sm\n",
    "from sklearn.model_selection import train_test_split\n",
    "from sklearn.linear_model import LinearRegression\n",
    "from sklearn.linear_model import LogisticRegression\n",
    "from sklearn.metrics import accuracy_score,confusion_matrix\n",
    "from sklearn.metrics import mean_squared_error\n",
    "from sklearn.metrics import r2_score"
   ]
  },
  {
   "cell_type": "markdown",
   "metadata": {
    "id": "N7bY3yLPs6OT"
   },
   "source": [
    "**Importing Data:**\n"
   ]
  },
  {
   "cell_type": "markdown",
   "metadata": {
    "id": "Ug3XmaicvXX2"
   },
   "source": [
    "Randomly shuffle the dataset by taking a random seed of “42”. Create a testing set from the last 1000 \n",
    "rows of the dataframe (these must be the same for all the students). The remaining rows will be the \n",
    "training + validation set, with training : validation ratio of 80% : 20%. Determine \n",
    "\n",
    "A) number of rows in training, validation and test sets, along with the structure, datatypes and \n",
    "value counts of the dataframes.\n"
   ]
  },
  {
   "cell_type": "code",
   "execution_count": 25,
   "metadata": {
    "colab": {
     "base_uri": "https://localhost:8080/"
    },
    "id": "bb2-q9z0z6sz",
    "outputId": "c632c1f5-6926-4057-ad6e-d4eb33b9e573"
   },
   "outputs": [
    {
     "name": "stdout",
     "output_type": "stream",
     "text": [
      "Size(rows) of training data is 3796\n",
      "Size(rows) of testing data is 950\n",
      "Data types of training data(X) are  Size          int64\n",
      "BHK           int64\n",
      "Bathroom      int64\n",
      "City         object\n",
      "Area Type    object\n",
      "dtype: object\n",
      "                            \n",
      "Exploring training data as(X) :                Size          BHK     Bathroom\n",
      "count  3796.000000  3796.000000  3796.000000\n",
      "mean    967.095627     2.090358     1.968388\n",
      "std     635.144783     0.838784     0.886468\n",
      "min      10.000000     1.000000     1.000000\n",
      "25%     550.000000     2.000000     1.000000\n",
      "50%     850.000000     2.000000     2.000000\n",
      "75%    1200.000000     3.000000     2.000000\n",
      "max    8000.000000     6.000000    10.000000\n",
      "Data types of testing data(X) are  Size          int64\n",
      "BHK           int64\n",
      "Bathroom      int64\n",
      "City         object\n",
      "Area Type    object\n",
      "dtype: object\n",
      "                            \n",
      "Exploring testing data as(X) :                Size         BHK    Bathroom\n",
      "count   950.000000  950.000000  950.000000\n",
      "mean    969.069474    2.057895    1.955789\n",
      "std     630.753003    0.805550    0.877144\n",
      "min      48.000000    1.000000    1.000000\n",
      "25%     572.500000    2.000000    1.000000\n",
      "50%     850.000000    2.000000    2.000000\n",
      "75%    1200.000000    3.000000    2.000000\n",
      "max    7000.000000    5.000000    7.000000\n"
     ]
    }
   ],
   "source": [
    "df=pd.read_csv('House_Rent_Dataset.csv')\n",
    "X=df[['Size','BHK','Bathroom','City','Area Type']]\n",
    "Y=df['Rent']\n",
    "X_train,X_test,Y_train,Y_test=train_test_split(X,Y, test_size=0.2, train_size=0.8, random_state=42 ,shuffle=True, stratify=None)\n",
    "print(\"Size(rows) of training data is\",len(X_train))\n",
    "print(\"Size(rows) of testing data is\",len(X_test))\n",
    "print(\"Data types of training data(X) are \",X_train.dtypes)\n",
    "print(\"                            \")\n",
    "print(\"Exploring training data as(X) : \",X_train.describe())\n",
    "print(\"Data types of testing data(X) are \",X_test.dtypes)\n",
    "print(\"                            \")\n",
    "print(\"Exploring testing data as(X) : \",X_test.describe())"
   ]
  },
  {
   "cell_type": "markdown",
   "metadata": {
    "id": "j8hA8-Xhs6Wv"
   },
   "source": [
    "**Data Cleaning:**"
   ]
  },
  {
   "cell_type": "markdown",
   "metadata": {
    "id": "hnB3GdCxvhT6"
   },
   "source": [
    "1. Analyse the data and identify which columns are not relevant for house rent prediction task. Drop \n",
    "those columns from the dataframes. "
   ]
  },
  {
   "cell_type": "code",
   "execution_count": 26,
   "metadata": {
    "colab": {
     "base_uri": "https://localhost:8080/",
     "height": 424
    },
    "id": "Ujdz1cYwz8KG",
    "outputId": "343b189e-c497-476e-9a3a-b989485ea558"
   },
   "outputs": [
    {
     "data": {
      "text/html": [
       "<div>\n",
       "<style scoped>\n",
       "    .dataframe tbody tr th:only-of-type {\n",
       "        vertical-align: middle;\n",
       "    }\n",
       "\n",
       "    .dataframe tbody tr th {\n",
       "        vertical-align: top;\n",
       "    }\n",
       "\n",
       "    .dataframe thead th {\n",
       "        text-align: right;\n",
       "    }\n",
       "</style>\n",
       "<table border=\"1\" class=\"dataframe\">\n",
       "  <thead>\n",
       "    <tr style=\"text-align: right;\">\n",
       "      <th></th>\n",
       "      <th>BHK</th>\n",
       "      <th>Rent</th>\n",
       "      <th>Size</th>\n",
       "      <th>Area Type</th>\n",
       "      <th>City</th>\n",
       "      <th>Furnishing Status</th>\n",
       "      <th>Tenant Preferred</th>\n",
       "      <th>Bathroom</th>\n",
       "    </tr>\n",
       "  </thead>\n",
       "  <tbody>\n",
       "    <tr>\n",
       "      <th>0</th>\n",
       "      <td>2</td>\n",
       "      <td>10000</td>\n",
       "      <td>1100</td>\n",
       "      <td>Super Area</td>\n",
       "      <td>Kolkata</td>\n",
       "      <td>Unfurnished</td>\n",
       "      <td>Bachelors/Family</td>\n",
       "      <td>2</td>\n",
       "    </tr>\n",
       "    <tr>\n",
       "      <th>1</th>\n",
       "      <td>2</td>\n",
       "      <td>20000</td>\n",
       "      <td>800</td>\n",
       "      <td>Super Area</td>\n",
       "      <td>Kolkata</td>\n",
       "      <td>Semi-Furnished</td>\n",
       "      <td>Bachelors/Family</td>\n",
       "      <td>1</td>\n",
       "    </tr>\n",
       "    <tr>\n",
       "      <th>2</th>\n",
       "      <td>2</td>\n",
       "      <td>17000</td>\n",
       "      <td>1000</td>\n",
       "      <td>Super Area</td>\n",
       "      <td>Kolkata</td>\n",
       "      <td>Semi-Furnished</td>\n",
       "      <td>Bachelors/Family</td>\n",
       "      <td>1</td>\n",
       "    </tr>\n",
       "    <tr>\n",
       "      <th>3</th>\n",
       "      <td>2</td>\n",
       "      <td>10000</td>\n",
       "      <td>800</td>\n",
       "      <td>Super Area</td>\n",
       "      <td>Kolkata</td>\n",
       "      <td>Unfurnished</td>\n",
       "      <td>Bachelors/Family</td>\n",
       "      <td>1</td>\n",
       "    </tr>\n",
       "    <tr>\n",
       "      <th>4</th>\n",
       "      <td>2</td>\n",
       "      <td>7500</td>\n",
       "      <td>850</td>\n",
       "      <td>Carpet Area</td>\n",
       "      <td>Kolkata</td>\n",
       "      <td>Unfurnished</td>\n",
       "      <td>Bachelors</td>\n",
       "      <td>1</td>\n",
       "    </tr>\n",
       "    <tr>\n",
       "      <th>...</th>\n",
       "      <td>...</td>\n",
       "      <td>...</td>\n",
       "      <td>...</td>\n",
       "      <td>...</td>\n",
       "      <td>...</td>\n",
       "      <td>...</td>\n",
       "      <td>...</td>\n",
       "      <td>...</td>\n",
       "    </tr>\n",
       "    <tr>\n",
       "      <th>4741</th>\n",
       "      <td>2</td>\n",
       "      <td>15000</td>\n",
       "      <td>1000</td>\n",
       "      <td>Carpet Area</td>\n",
       "      <td>Hyderabad</td>\n",
       "      <td>Semi-Furnished</td>\n",
       "      <td>Bachelors/Family</td>\n",
       "      <td>2</td>\n",
       "    </tr>\n",
       "    <tr>\n",
       "      <th>4742</th>\n",
       "      <td>3</td>\n",
       "      <td>29000</td>\n",
       "      <td>2000</td>\n",
       "      <td>Super Area</td>\n",
       "      <td>Hyderabad</td>\n",
       "      <td>Semi-Furnished</td>\n",
       "      <td>Bachelors/Family</td>\n",
       "      <td>3</td>\n",
       "    </tr>\n",
       "    <tr>\n",
       "      <th>4743</th>\n",
       "      <td>3</td>\n",
       "      <td>35000</td>\n",
       "      <td>1750</td>\n",
       "      <td>Carpet Area</td>\n",
       "      <td>Hyderabad</td>\n",
       "      <td>Semi-Furnished</td>\n",
       "      <td>Bachelors/Family</td>\n",
       "      <td>3</td>\n",
       "    </tr>\n",
       "    <tr>\n",
       "      <th>4744</th>\n",
       "      <td>3</td>\n",
       "      <td>45000</td>\n",
       "      <td>1500</td>\n",
       "      <td>Carpet Area</td>\n",
       "      <td>Hyderabad</td>\n",
       "      <td>Semi-Furnished</td>\n",
       "      <td>Family</td>\n",
       "      <td>2</td>\n",
       "    </tr>\n",
       "    <tr>\n",
       "      <th>4745</th>\n",
       "      <td>2</td>\n",
       "      <td>15000</td>\n",
       "      <td>1000</td>\n",
       "      <td>Carpet Area</td>\n",
       "      <td>Hyderabad</td>\n",
       "      <td>Unfurnished</td>\n",
       "      <td>Bachelors</td>\n",
       "      <td>2</td>\n",
       "    </tr>\n",
       "  </tbody>\n",
       "</table>\n",
       "<p>4746 rows × 8 columns</p>\n",
       "</div>"
      ],
      "text/plain": [
       "      BHK   Rent  Size    Area Type       City Furnishing Status  \\\n",
       "0       2  10000  1100   Super Area    Kolkata       Unfurnished   \n",
       "1       2  20000   800   Super Area    Kolkata    Semi-Furnished   \n",
       "2       2  17000  1000   Super Area    Kolkata    Semi-Furnished   \n",
       "3       2  10000   800   Super Area    Kolkata       Unfurnished   \n",
       "4       2   7500   850  Carpet Area    Kolkata       Unfurnished   \n",
       "...   ...    ...   ...          ...        ...               ...   \n",
       "4741    2  15000  1000  Carpet Area  Hyderabad    Semi-Furnished   \n",
       "4742    3  29000  2000   Super Area  Hyderabad    Semi-Furnished   \n",
       "4743    3  35000  1750  Carpet Area  Hyderabad    Semi-Furnished   \n",
       "4744    3  45000  1500  Carpet Area  Hyderabad    Semi-Furnished   \n",
       "4745    2  15000  1000  Carpet Area  Hyderabad       Unfurnished   \n",
       "\n",
       "      Tenant Preferred  Bathroom  \n",
       "0     Bachelors/Family         2  \n",
       "1     Bachelors/Family         1  \n",
       "2     Bachelors/Family         1  \n",
       "3     Bachelors/Family         1  \n",
       "4            Bachelors         1  \n",
       "...                ...       ...  \n",
       "4741  Bachelors/Family         2  \n",
       "4742  Bachelors/Family         3  \n",
       "4743  Bachelors/Family         3  \n",
       "4744            Family         2  \n",
       "4745         Bachelors         2  \n",
       "\n",
       "[4746 rows x 8 columns]"
      ]
     },
     "execution_count": 26,
     "metadata": {},
     "output_type": "execute_result"
    }
   ],
   "source": [
    "new_df=df.drop(['Posted On','Point of Contact','Area Locality','Floor'], axis=1)\n",
    "new_df"
   ]
  },
  {
   "cell_type": "markdown",
   "metadata": {
    "id": "uMb_G641vhQX"
   },
   "source": [
    "2. Check for missing values and logically impute the dataset.\n"
   ]
  },
  {
   "cell_type": "code",
   "execution_count": 27,
   "metadata": {
    "colab": {
     "base_uri": "https://localhost:8080/"
    },
    "id": "sYgZzgFgz8vi",
    "outputId": "df0dff81-5770-493f-98cf-43d4830f466f"
   },
   "outputs": [
    {
     "name": "stdout",
     "output_type": "stream",
     "text": [
      "Misssing values in original data : \n",
      "BHK                  0\n",
      "Rent                 0\n",
      "Size                 0\n",
      "Area Type            0\n",
      "City                 0\n",
      "Furnishing Status    0\n",
      "Tenant Preferred     0\n",
      "Bathroom             0\n",
      "dtype: int64\n",
      "                                  \n",
      "Missing values in training data\n",
      "Size         0\n",
      "BHK          0\n",
      "Bathroom     0\n",
      "City         0\n",
      "Area Type    0\n",
      "dtype: int64\n"
     ]
    }
   ],
   "source": [
    "print(\"Misssing values in original data : \")\n",
    "print(new_df.isnull().sum()) \n",
    "print(\"                                  \")\n",
    "print(\"Missing values in training data\")        # no  missing values in orginal data and training and testing data\n",
    "print(X_train.isnull().sum())"
   ]
  },
  {
   "cell_type": "markdown",
   "metadata": {
    "id": "e7uKkOihvhN4"
   },
   "source": [
    "3. Identify any categorical valued columns (non-numeric) and convert them to numeric. "
   ]
  },
  {
   "cell_type": "code",
   "execution_count": 28,
   "metadata": {
    "colab": {
     "base_uri": "https://localhost:8080/"
    },
    "id": "_e1uqDpuz9k2",
    "outputId": "ec7f96ef-d605-4e0c-d639-2c50c18936d1"
   },
   "outputs": [
    {
     "name": "stdout",
     "output_type": "stream",
     "text": [
      "Number of duplicates values 277\n"
     ]
    }
   ],
   "source": [
    "print(\"Number of duplicates values\", new_df.duplicated().sum())"
   ]
  },
  {
   "cell_type": "markdown",
   "metadata": {
    "id": "D_LDuxLfs6nS"
   },
   "source": [
    "**Exploratory Analysis (On training set):**"
   ]
  },
  {
   "cell_type": "markdown",
   "metadata": {
    "id": "ouxYM5W1vyIO"
   },
   "source": [
    "1. Plot the house rents against the dependent variable of “size”. See if there is a uniform linear trend\n",
    "between the dependent and independent variables. Make accurate axis and legend. Save the plot in a \n",
    "png file."
   ]
  },
  {
   "cell_type": "code",
   "execution_count": 29,
   "metadata": {
    "colab": {
     "base_uri": "https://localhost:8080/",
     "height": 312
    },
    "id": "s5bDiMzoL2Ip",
    "outputId": "eeba984a-8655-4158-9561-2d80095f367a"
   },
   "outputs": [
    {
     "data": {
      "text/plain": [
       "Text(0, 0.5, 'House Rent')"
      ]
     },
     "execution_count": 29,
     "metadata": {},
     "output_type": "execute_result"
    },
    {
     "data": {
      "image/png": "[encoded data removed]",
      "text/plain": [
       "<Figure size 432x288 with 1 Axes>"
      ]
     },
     "metadata": {
      "needs_background": "light"
     },
     "output_type": "display_data"
    }
   ],
   "source": [
    "plt.scatter(X_train['Size'],Y_train,color='green')\n",
    "plt.title(\"House Rent Vs House Size\")       \n",
    "plt.xlabel(\"House Size\")\n",
    "plt.ylabel(\"House Rent\")"
   ]
  },
  {
   "cell_type": "code",
   "execution_count": 30,
   "metadata": {
    "colab": {
     "base_uri": "https://localhost:8080/",
     "height": 312
    },
    "id": "EdIti0y1L3Xt",
    "outputId": "b821fda5-cdb8-4e97-a577-ae9c71fa7e19"
   },
   "outputs": [
    {
     "data": {
      "text/plain": [
       "Text(0, 0.5, 'House Rent')"
      ]
     },
     "execution_count": 30,
     "metadata": {},
     "output_type": "execute_result"
    },
    {
     "data": {
      "image/png": "[encoded data removed]",
      "text/plain": [
       "<Figure size 432x288 with 1 Axes>"
      ]
     },
     "metadata": {
      "needs_background": "light"
     },
     "output_type": "display_data"
    }
   ],
   "source": [
    "plt.scatter(X_train['BHK'],Y_train,color='green')\n",
    "plt.title(\"BHK Vs House Size\")      \n",
    "plt.xlabel(\"BHK\")\n",
    "plt.ylabel(\"House Rent\")"
   ]
  },
  {
   "cell_type": "code",
   "execution_count": 31,
   "metadata": {
    "colab": {
     "base_uri": "https://localhost:8080/",
     "height": 312
    },
    "id": "NnJbE-zLyjfr",
    "outputId": "644e25ce-9e73-4c93-cef6-d6164d404f4f"
   },
   "outputs": [
    {
     "data": {
      "text/plain": [
       "Text(0, 0.5, 'House Rent')"
      ]
     },
     "execution_count": 31,
     "metadata": {},
     "output_type": "execute_result"
    },
    {
     "data": {
      "image/png": "[encoded data removed]",
      "text/plain": [
       "<Figure size 432x288 with 1 Axes>"
      ]
     },
     "metadata": {
      "needs_background": "light"
     },
     "output_type": "display_data"
    }
   ],
   "source": [
    "plt.scatter(X_train['City'],Y_train,color='green')\n",
    "plt.title(\"City Vs House Size\")       \n",
    "plt.xlabel(\"City\")\n",
    "plt.ylabel(\"House Rent\")"
   ]
  },
  {
   "cell_type": "code",
   "execution_count": 32,
   "metadata": {
    "colab": {
     "base_uri": "https://localhost:8080/",
     "height": 312
    },
    "id": "acMD4VRqyjcP",
    "outputId": "0a338681-544f-4c28-f33f-ea464bb12bfe"
   },
   "outputs": [
    {
     "data": {
      "text/plain": [
       "Text(0, 0.5, 'House Rent')"
      ]
     },
     "execution_count": 32,
     "metadata": {},
     "output_type": "execute_result"
    },
    {
     "data": {
      "image/png": "[encoded data removed]",
      "text/plain": [
       "<Figure size 432x288 with 1 Axes>"
      ]
     },
     "metadata": {
      "needs_background": "light"
     },
     "output_type": "display_data"
    }
   ],
   "source": [
    "plt.scatter(X_train['Area Type'],Y_train,color='green')\n",
    "plt.title(\"Area Type Vs House Size\")       \n",
    "plt.xlabel(\"Area type\")\n",
    "plt.ylabel(\"House Rent\")"
   ]
  },
  {
   "cell_type": "markdown",
   "metadata": {
    "id": "syx3d9iJvyE3"
   },
   "source": [
    "2. Find average rent prices in different cities and report which city has the highest average rent."
   ]
  },
  {
   "cell_type": "code",
   "execution_count": 33,
   "metadata": {
    "colab": {
     "base_uri": "https://localhost:8080/"
    },
    "id": "ejSlddtdyjQr",
    "outputId": "8c3a4f36-545f-4fd5-c9d8-13f28e17898b"
   },
   "outputs": [
    {
     "data": {
      "text/plain": [
       "City\n",
       "Bangalore    24966.366\n",
       "Chennai      21614.092\n",
       "Delhi        29461.983\n",
       "Hyderabad    20555.048\n",
       "Kolkata      11645.174\n",
       "Mumbai       85321.205\n",
       "Name: Rent, dtype: float64"
      ]
     },
     "execution_count": 33,
     "metadata": {},
     "output_type": "execute_result"
    }
   ],
   "source": [
    "w=new_df.groupby(\"City\")['Rent'].mean().round(decimals=3)\n",
    "w"
   ]
  },
  {
   "cell_type": "code",
   "execution_count": 34,
   "metadata": {
    "colab": {
     "base_uri": "https://localhost:8080/",
     "height": 296
    },
    "id": "jNdSRVqFzCX5",
    "outputId": "6fa76c5f-3f38-44a4-d9bd-5316a42f70cc"
   },
   "outputs": [
    {
     "data": {
      "text/plain": [
       "Text(0, 0.5, 'Average Rent')"
      ]
     },
     "execution_count": 34,
     "metadata": {},
     "output_type": "execute_result"
    },
    {
     "data": {
      "image/png": "[encoded data removed]",
      "text/plain": [
       "<Figure size 432x288 with 1 Axes>"
      ]
     },
     "metadata": {
      "needs_background": "light"
     },
     "output_type": "display_data"
    }
   ],
   "source": [
    "w.plot.bar(rot=0,color='green')\n",
    "plt.xlabel(\"City\")\n",
    "plt.ylabel(\"Average Rent\")"
   ]
  },
  {
   "cell_type": "markdown",
   "metadata": {
    "id": "rtRF7GExtVx2"
   },
   "source": [
    "**Regression:**"
   ]
  },
  {
   "cell_type": "markdown",
   "metadata": {
    "id": "VCpJ1XYVtWA6"
   },
   "source": [
    "1. Train a linear regression model on the training set partition by taking only one dependent variable of \n",
    "“size”. Calculate the error on the validation set."
   ]
  },
  {
   "cell_type": "code",
   "execution_count": 35,
   "metadata": {
    "colab": {
     "base_uri": "https://localhost:8080/",
     "height": 476
    },
    "id": "HLMFNRKdL4Jk",
    "outputId": "772c85b6-a312-449a-a84a-1324d2237010"
   },
   "outputs": [
    {
     "name": "stdout",
     "output_type": "stream",
     "text": [
      "Coefficient is =  [49.45643895]\n",
      "Intercept is  =  -12677.58950320886\n",
      "Root Mean Square valuue is =  52161.29135909078\n"
     ]
    },
    {
     "data": {
      "text/html": [
       "<div>\n",
       "<style scoped>\n",
       "    .dataframe tbody tr th:only-of-type {\n",
       "        vertical-align: middle;\n",
       "    }\n",
       "\n",
       "    .dataframe tbody tr th {\n",
       "        vertical-align: top;\n",
       "    }\n",
       "\n",
       "    .dataframe thead th {\n",
       "        text-align: right;\n",
       "    }\n",
       "</style>\n",
       "<table border=\"1\" class=\"dataframe\">\n",
       "  <thead>\n",
       "    <tr style=\"text-align: right;\">\n",
       "      <th></th>\n",
       "      <th>Actual Rent</th>\n",
       "      <th>Predicted Rent</th>\n",
       "    </tr>\n",
       "  </thead>\n",
       "  <tbody>\n",
       "    <tr>\n",
       "      <th>1566</th>\n",
       "      <td>16000</td>\n",
       "      <td>41724.493344</td>\n",
       "    </tr>\n",
       "    <tr>\n",
       "      <th>3159</th>\n",
       "      <td>12000</td>\n",
       "      <td>26887.561658</td>\n",
       "    </tr>\n",
       "    <tr>\n",
       "      <th>538</th>\n",
       "      <td>28000</td>\n",
       "      <td>12940.845874</td>\n",
       "    </tr>\n",
       "    <tr>\n",
       "      <th>2630</th>\n",
       "      <td>8000</td>\n",
       "      <td>61507.068925</td>\n",
       "    </tr>\n",
       "    <tr>\n",
       "      <th>4418</th>\n",
       "      <td>46000</td>\n",
       "      <td>97857.551554</td>\n",
       "    </tr>\n",
       "    <tr>\n",
       "      <th>...</th>\n",
       "      <td>...</td>\n",
       "      <td>...</td>\n",
       "    </tr>\n",
       "    <tr>\n",
       "      <th>4124</th>\n",
       "      <td>18000</td>\n",
       "      <td>49044.046309</td>\n",
       "    </tr>\n",
       "    <tr>\n",
       "      <th>3400</th>\n",
       "      <td>25000</td>\n",
       "      <td>41724.493344</td>\n",
       "    </tr>\n",
       "    <tr>\n",
       "      <th>1941</th>\n",
       "      <td>14000</td>\n",
       "      <td>34306.027501</td>\n",
       "    </tr>\n",
       "    <tr>\n",
       "      <th>3679</th>\n",
       "      <td>26000</td>\n",
       "      <td>42960.904318</td>\n",
       "    </tr>\n",
       "    <tr>\n",
       "      <th>2531</th>\n",
       "      <td>11000</td>\n",
       "      <td>12050.629973</td>\n",
       "    </tr>\n",
       "  </tbody>\n",
       "</table>\n",
       "<p>950 rows × 2 columns</p>\n",
       "</div>"
      ],
      "text/plain": [
       "      Actual Rent  Predicted Rent\n",
       "1566        16000    41724.493344\n",
       "3159        12000    26887.561658\n",
       "538         28000    12940.845874\n",
       "2630         8000    61507.068925\n",
       "4418        46000    97857.551554\n",
       "...           ...             ...\n",
       "4124        18000    49044.046309\n",
       "3400        25000    41724.493344\n",
       "1941        14000    34306.027501\n",
       "3679        26000    42960.904318\n",
       "2531        11000    12050.629973\n",
       "\n",
       "[950 rows x 2 columns]"
      ]
     },
     "execution_count": 35,
     "metadata": {},
     "output_type": "execute_result"
    }
   ],
   "source": [
    "a=LinearRegression()\n",
    "a.fit(X_train[['Size']],Y_train)\n",
    "Y_pred=a.predict(X_test[['Size']])\n",
    "s=a.coef_\n",
    "c=a.intercept_\n",
    "print(\"Coefficient is = \" ,s)\n",
    "print(\"Intercept is  = \" ,c) \n",
    "mse=mean_squared_error(Y_test,Y_pred)\n",
    "rmse=np.sqrt(mse)\n",
    "print(\"Root Mean Square valuue is = \",rmse)\n",
    "pd.DataFrame({'Actual Rent': Y_test, 'Predicted Rent': Y_pred})"
   ]
  },
  {
   "cell_type": "code",
   "execution_count": 36,
   "metadata": {
    "colab": {
     "base_uri": "https://localhost:8080/"
    },
    "id": "UmGu5crD0zZz",
    "outputId": "c4712a45-4847-4f55-e60f-fb8359f5324e"
   },
   "outputs": [
    {
     "data": {
      "text/plain": [
       "1566    16000\n",
       "3159    12000\n",
       "538     28000\n",
       "2630     8000\n",
       "4418    46000\n",
       "        ...  \n",
       "4124    18000\n",
       "3400    25000\n",
       "1941    14000\n",
       "3679    26000\n",
       "2531    11000\n",
       "Name: Rent, Length: 950, dtype: int64"
      ]
     },
     "execution_count": 36,
     "metadata": {},
     "output_type": "execute_result"
    }
   ],
   "source": [
    "Y_test"
   ]
  },
  {
   "cell_type": "code",
   "execution_count": 37,
   "metadata": {
    "colab": {
     "base_uri": "https://localhost:8080/",
     "height": 312
    },
    "id": "y5StjUUGL4st",
    "outputId": "614394d9-d4d4-4623-dc39-8216d054a38f"
   },
   "outputs": [
    {
     "data": {
      "text/plain": [
       "Text(0, 0.5, 'House Rent')"
      ]
     },
     "execution_count": 37,
     "metadata": {},
     "output_type": "execute_result"
    },
    {
     "data": {
      "image/png": "[encoded data removed]",
      "text/plain": [
       "<Figure size 432x288 with 1 Axes>"
      ]
     },
     "metadata": {
      "needs_background": "light"
     },
     "output_type": "display_data"
    }
   ],
   "source": [
    "plt.scatter(X_train['Size'], Y_train,color='green') \n",
    "plt.plot(X_test['Size'], Y_pred,color='k') \n",
    "plt.title(\"House Size Vs House rent\")\n",
    "plt.xlabel(\"House Size\")\n",
    "plt.ylabel(\"House Rent\")"
   ]
  },
  {
   "cell_type": "code",
   "execution_count": 38,
   "metadata": {
    "colab": {
     "base_uri": "https://localhost:8080/"
    },
    "id": "siDMPig71_0e",
    "outputId": "cc0e5b84-db89-4243-ad45-3d61bea5af8d"
   },
   "outputs": [
    {
     "name": "stdout",
     "output_type": "stream",
     "text": [
      "Intercept is  =  -39022.92849685523\n",
      "Root Mean Square valuue is =  50544.789811069684\n",
      "           Coefficents\n",
      "Size         21.053941\n",
      "BHK        -269.131569\n",
      "Bathroom  27624.563039\n"
     ]
    },
    {
     "data": {
      "text/plain": [
       "(      Size  BHK  Bathroom       City    Area Type\n",
       " 1566  1100    2         2  Bangalore   Super Area\n",
       " 3159   800    2         2    Chennai   Super Area\n",
       " 538    518    2         2     Mumbai  Carpet Area\n",
       " 2630  1500    3         3      Delhi  Carpet Area\n",
       " 4418  2235    3         5  Hyderabad  Carpet Area\n",
       " ...    ...  ...       ...        ...          ...\n",
       " 4124  1248    2         2  Hyderabad  Carpet Area\n",
       " 3400  1100    3         2    Chennai   Super Area\n",
       " 1941   950    2         2  Bangalore   Super Area\n",
       " 3679  1125    3         2    Chennai   Super Area\n",
       " 2531   500    1         1      Delhi   Super Area\n",
       " \n",
       " [950 rows x 5 columns],\n",
       " 1566    16000\n",
       " 3159    12000\n",
       " 538     28000\n",
       " 2630     8000\n",
       " 4418    46000\n",
       "         ...  \n",
       " 4124    18000\n",
       " 3400    25000\n",
       " 1941    14000\n",
       " 3679    26000\n",
       " 2531    11000\n",
       " Name: Rent, Length: 950, dtype: int64)"
      ]
     },
     "execution_count": 38,
     "metadata": {},
     "output_type": "execute_result"
    }
   ],
   "source": [
    "# with more than one independent variable\n",
    "a=LinearRegression()\n",
    "a.fit(X_train[['Size','BHK','Bathroom']],Y_train)\n",
    "Y_pred=a.predict(X_test[['Size','BHK','Bathroom']])\n",
    "s=a.coef_\n",
    "c=a.intercept_                                # Equation of regresssion line is 21.053x1-269.1315x2+27624.563x3-39022\n",
    "X_train1=X_train[['Size','BHK','Bathroom']]\n",
    "coeff=pd.DataFrame(a.coef_,X_train1.columns,columns=['Coefficents'])           \n",
    "print(\"Intercept is  = \" ,c) \n",
    "mse=mean_squared_error(Y_test,Y_pred)\n",
    "rmse=np.sqrt(mse)\n",
    "print(\"Root Mean Square valuue is = \",rmse)\n",
    "t=pd.DataFrame({'Actual Rent': Y_test, 'Predicted Rent': Y_pred})   \n",
    "print(coeff)\n",
    "t\n",
    "X_test,Y_test"
   ]
  },
  {
   "cell_type": "code",
   "execution_count": 39,
   "metadata": {
    "colab": {
     "base_uri": "https://localhost:8080/",
     "height": 312
    },
    "id": "D4DmMKIv2DPI",
    "outputId": "5700f52e-62c4-4214-d00f-1fe1311dfab6"
   },
   "outputs": [
    {
     "data": {
      "text/plain": [
       "Text(0, 0.5, 'House Rent')"
      ]
     },
     "execution_count": 39,
     "metadata": {},
     "output_type": "execute_result"
    },
    {
     "data": {
      "image/png": "[encoded data removed]",
      "text/plain": [
       "<Figure size 432x288 with 1 Axes>"
      ]
     },
     "metadata": {
      "needs_background": "light"
     },
     "output_type": "display_data"
    }
   ],
   "source": [
    "plt.scatter(X_train['BHK'], Y_train,color='green') \n",
    "plt.plot(X_test['BHK'], Y_pred,color='red') \n",
    "plt.title(\"BHK Vs House rent\")\n",
    "plt.xlabel(\"BHK\")\n",
    "plt.ylabel(\"House Rent\")"
   ]
  },
  {
   "cell_type": "code",
   "execution_count": 40,
   "metadata": {
    "colab": {
     "base_uri": "https://localhost:8080/",
     "height": 312
    },
    "id": "sFVnfX7a2GSv",
    "outputId": "d52636e1-8184-4ad2-f6cb-bb77e42580df"
   },
   "outputs": [
    {
     "data": {
      "text/plain": [
       "Text(0, 0.5, 'House Rent')"
      ]
     },
     "execution_count": 40,
     "metadata": {},
     "output_type": "execute_result"
    },
    {
     "data": {
      "image/png": "[encoded data removed]",
      "text/plain": [
       "<Figure size 432x288 with 1 Axes>"
      ]
     },
     "metadata": {
      "needs_background": "light"
     },
     "output_type": "display_data"
    }
   ],
   "source": [
    "plt.scatter(X_train['Size'], Y_train,color='green') \n",
    "plt.plot(X_test['Size'], Y_pred,color='red') \n",
    "plt.title(\"Size Vs House rent\")\n",
    "plt.xlabel(\"Size\")\n",
    "plt.ylabel(\"House Rent\")"
   ]
  },
  {
   "cell_type": "code",
   "execution_count": 41,
   "metadata": {
    "id": "8cXXqnbFYGrH"
   },
   "outputs": [],
   "source": [
    "from sklearn.linear_model import LogisticRegression"
   ]
  },
  {
   "cell_type": "code",
   "execution_count": 42,
   "metadata": {
    "id": "fvoLbF_Z2JWI"
   },
   "outputs": [],
   "source": [
    "model=LogisticRegression(max_iter=10,solver='liblinear')"
   ]
  },
  {
   "cell_type": "code",
   "execution_count": 43,
   "metadata": {
    "colab": {
     "base_uri": "https://localhost:8080/"
    },
    "id": "tI7epvZu2QxP",
    "outputId": "f0a97e9e-1e7f-4675-ed26-316edaa9a87b"
   },
   "outputs": [
    {
     "name": "stderr",
     "output_type": "stream",
     "text": [
      "D:\\sanjay\\anaconda\\lib\\site-packages\\sklearn\\svm\\_base.py:976: ConvergenceWarning: Liblinear failed to converge, increase the number of iterations.\n",
      "  warnings.warn(\"Liblinear failed to converge, increase \"\n"
     ]
    },
    {
     "data": {
      "text/plain": [
       "LogisticRegression(max_iter=10, solver='liblinear')"
      ]
     },
     "execution_count": 43,
     "metadata": {},
     "output_type": "execute_result"
    }
   ],
   "source": [
    "model.fit(X_train[['Size','BHK','Bathroom']],Y_train)"
   ]
  },
  {
   "cell_type": "code",
   "execution_count": 44,
   "metadata": {
    "colab": {
     "base_uri": "https://localhost:8080/"
    },
    "id": "nU9J-X9o2U78",
    "outputId": "31198800-e74b-4854-ea69-a5c040367030"
   },
   "outputs": [
    {
     "name": "stdout",
     "output_type": "stream",
     "text": [
      "50544.789811069684\n"
     ]
    }
   ],
   "source": [
    "b=model.predict(X_train[['Size','BHK','Bathroom']])\n",
    "c=accuracy_score(b,Y_train)\n",
    "mse=mean_squared_error(Y_test,Y_pred)\n",
    "#print(mse)\n",
    "rmse=np.sqrt(mse)\n",
    "print(rmse)"
   ]
  },
  {
   "cell_type": "code",
   "execution_count": 45,
   "metadata": {
    "colab": {
     "base_uri": "https://localhost:8080/"
    },
    "id": "ieLJv76s2VJ0",
    "outputId": "de78e7de-a1a1-442b-dd09-f58be1f71f58"
   },
   "outputs": [
    {
     "name": "stdout",
     "output_type": "stream",
     "text": [
      "Accuracy score of testing  model =  0.05578947368421053\n"
     ]
    }
   ],
   "source": [
    "b=model.predict(X_test[['Size','BHK','Bathroom']])\n",
    "c=accuracy_score(b,Y_test)\n",
    "print(\"Accuracy score of testing  model = \",c)    "
   ]
  },
  {
   "cell_type": "code",
   "execution_count": null,
   "metadata": {},
   "outputs": [],
   "source": []
  },
  {
   "cell_type": "code",
   "execution_count": null,
   "metadata": {},
   "outputs": [],
   "source": []
  }
 ],
 "metadata": {
  "colab": {
   "provenance": []
  },
  "kernelspec": {
   "display_name": "Python 3",
   "language": "python",
   "name": "python3"
  },
  "language_info": {
   "codemirror_mode": {
    "name": "ipython",
    "version": 3
   },
   "file_extension": ".py",
   "mimetype": "text/x-python",
   "name": "python",
   "nbconvert_exporter": "python",
   "pygments_lexer": "ipython3",
   "version": "3.8.5"
  }
 },
 "nbformat": 4,
 "nbformat_minor": 1
}
